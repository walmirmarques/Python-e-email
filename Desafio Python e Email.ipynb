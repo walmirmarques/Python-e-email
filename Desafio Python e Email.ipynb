{
 "cells": [
  {
   "cell_type": "markdown",
   "metadata": {},
   "source": [
    "# Desafio Python e Email\n",
    "\n",
    "### Descrição\n",
    "\n",
    "Digamos que você trabalha e uma indústria e é responsável pela a área de inteligência de negócio.\n",
    "Todo dia, você, a equipe ou até mesmo o programa, gera um report diferente para cada área da empresa. \n",
    " pa\n",
    "* Financeiro\n",
    "* Logística\n",
    "* Manutenção\n",
    "* Marketing\n",
    "* Operações\n",
    "* Produções \n",
    "* Vendas\n",
    "\n",
    "Cada um desses reports deve ser enviado por e-mail para o gerente de cada área.\n",
    "\n",
    "Crie um programa que faça isso automaticamente. A relação de gerentes (com seus respectivos e-mails) e áreas,\n",
    "estão no arquivo 'Enviar E-mails.xlsx'\n",
    "\n",
    "Dica: Usar o pandas read_excel para ler o arquivo dos e-mails que isso vai facilitar. "
   ]
  },
  {
   "cell_type": "code",
   "execution_count": null,
   "metadata": {},
   "outputs": [],
   "source": []
  }
 ],
 "metadata": {
  "language_info": {
   "name": "python"
  },
  "orig_nbformat": 4
 },
 "nbformat": 4,
 "nbformat_minor": 2
}
