{
 "cells": [
  {
   "cell_type": "markdown",
   "metadata": {},
   "source": [
    "# Desafio Python e Email\n",
    "\n",
    "### Descrição\n",
    "\n",
    "Digamos que você trabalha e uma indústria e é responsável pela a área de inteligência de negócio.\n",
    "Todo dia, você, a equipe ou até mesmo o programa, gera um report diferente para cada área da empresa. \n",
    " pa\n",
    "* Financeiro\n",
    "* Logística\n",
    "* Manutenção\n",
    "* Marketing\n",
    "* Operações\n",
    "* Produções \n",
    "* Vendas\n",
    "\n",
    "Cada um desses reports deve ser enviado por e-mail para o gerente de cada área.\n",
    "\n",
    "Crie um programa que faça isso automaticamente. A relação de gerentes (com seus respectivos e-mails) e áreas,\n",
    "estão no arquivo 'Enviar E-mails.xlsx'\n",
    "\n",
    "Dica: Usar o pandas read_excel para ler o arquivo dos e-mails que isso vai facilitar. "
   ]
  },
  {
   "cell_type": "code",
   "execution_count": 1,
   "metadata": {},
   "outputs": [],
   "source": [
    "# importando o pandas\n",
    "import pandas as pd\n",
    "#Importando o yagmail\n",
    "import yagmail"
   ]
  },
  {
   "cell_type": "code",
   "execution_count": 7,
   "metadata": {},
   "outputs": [],
   "source": [
    "# Criando variável com o usuário e senha\n",
    "usuario = yagmail.SMTP(user='walmir.estudos@gmail.com', password='M@lmsteen1991')"
   ]
  },
  {
   "cell_type": "code",
   "execution_count": 2,
   "metadata": {},
   "outputs": [
    {
     "data": {
      "text/html": [
       "<div>\n",
       "<style scoped>\n",
       "    .dataframe tbody tr th:only-of-type {\n",
       "        vertical-align: middle;\n",
       "    }\n",
       "\n",
       "    .dataframe tbody tr th {\n",
       "        vertical-align: top;\n",
       "    }\n",
       "\n",
       "    .dataframe thead th {\n",
       "        text-align: right;\n",
       "    }\n",
       "</style>\n",
       "<table border=\"1\" class=\"dataframe\">\n",
       "  <thead>\n",
       "    <tr style=\"text-align: right;\">\n",
       "      <th></th>\n",
       "      <th>Gerente</th>\n",
       "      <th>E-mail</th>\n",
       "      <th>Relatório</th>\n",
       "    </tr>\n",
       "  </thead>\n",
       "  <tbody>\n",
       "    <tr>\n",
       "      <th>0</th>\n",
       "      <td>Lira</td>\n",
       "      <td>walmir-mf+1@hotmail.com</td>\n",
       "      <td>Vendas</td>\n",
       "    </tr>\n",
       "    <tr>\n",
       "      <th>1</th>\n",
       "      <td>Julia</td>\n",
       "      <td>walmir-mf+2@hotmail.com</td>\n",
       "      <td>Produção</td>\n",
       "    </tr>\n",
       "    <tr>\n",
       "      <th>2</th>\n",
       "      <td>José</td>\n",
       "      <td>walmir-mf+3@hotmail.com</td>\n",
       "      <td>Manutenção</td>\n",
       "    </tr>\n",
       "    <tr>\n",
       "      <th>3</th>\n",
       "      <td>Gustavo</td>\n",
       "      <td>walmir-mf+4@hotmail.com</td>\n",
       "      <td>Operações</td>\n",
       "    </tr>\n",
       "    <tr>\n",
       "      <th>4</th>\n",
       "      <td>Ana</td>\n",
       "      <td>walmir-mf+5@hotmail.com</td>\n",
       "      <td>Logística</td>\n",
       "    </tr>\n",
       "  </tbody>\n",
       "</table>\n",
       "</div>"
      ],
      "text/plain": [
       "   Gerente                   E-mail   Relatório\n",
       "0     Lira  walmir-mf+1@hotmail.com      Vendas\n",
       "1    Julia  walmir-mf+2@hotmail.com    Produção\n",
       "2     José  walmir-mf+3@hotmail.com  Manutenção\n",
       "3  Gustavo  walmir-mf+4@hotmail.com   Operações\n",
       "4      Ana  walmir-mf+5@hotmail.com   Logística"
      ]
     },
     "execution_count": 2,
     "metadata": {},
     "output_type": "execute_result"
    }
   ],
   "source": [
    "# Criando o dataframe dos gerentes e emails\n",
    "gerentes_df = pd.read_excel('Enviar E-mails.xlsx')\n",
    "gerentes_df.head()"
   ]
  },
  {
   "cell_type": "code",
   "execution_count": 8,
   "metadata": {},
   "outputs": [],
   "source": [
    "for i, email in enumerate(gerentes_df['E-mail']):\n",
    "    gerente = gerentes_df.loc[i, 'Gerente']\n",
    "    relatorio = gerentes_df.loc[i, 'Relatório']\n",
    "    corpo_email = f'''\n",
    "    Bom dia {gerente}, \n",
    "    segue em anexo o relatório anual da área de {relatorio}\n",
    "    abraços.\n",
    "\n",
    "    att Walmir\n",
    "    '''\n",
    "    usuario.send(to=email, subject='Relatório Anual', contents=corpo_email, attachments=relatorio+'.xlsx')\n",
    "    "
   ]
  },
  {
   "cell_type": "code",
   "execution_count": null,
   "metadata": {},
   "outputs": [],
   "source": []
  }
 ],
 "metadata": {
  "interpreter": {
   "hash": "2be5faf79681da6f2a61fdfdd5405d65d042280f7fba6178067603e3a2925119"
  },
  "kernelspec": {
   "display_name": "Python 3.10.2 64-bit",
   "language": "python",
   "name": "python3"
  },
  "language_info": {
   "codemirror_mode": {
    "name": "ipython",
    "version": 3
   },
   "file_extension": ".py",
   "mimetype": "text/x-python",
   "name": "python",
   "nbconvert_exporter": "python",
   "pygments_lexer": "ipython3",
   "version": "3.10.2"
  },
  "orig_nbformat": 4
 },
 "nbformat": 4,
 "nbformat_minor": 2
}
